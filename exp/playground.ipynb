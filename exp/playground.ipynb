{
 "cells": [
  {
   "cell_type": "code",
   "execution_count": 1,
   "metadata": {},
   "outputs": [],
   "source": [
    "\n",
    "import jax\n",
    "import jax.lax as lax\n",
    "import jax.numpy as jnp\n",
    "from jax import random\n",
    "from flax import linen as nn\n",
    "from flax.core import freeze, unfreeze\n",
    "import optax"
   ]
  },
  {
   "cell_type": "code",
   "execution_count": 3,
   "metadata": {},
   "outputs": [],
   "source": [
    "import matplotlib.pyplot as plt"
   ]
  },
  {
   "cell_type": "code",
   "execution_count": 4,
   "metadata": {},
   "outputs": [],
   "source": [
    "size = (5,5,5)"
   ]
  },
  {
   "cell_type": "code",
   "execution_count": 6,
   "metadata": {},
   "outputs": [],
   "source": [
    "x = jnp.zeros(size)"
   ]
  },
  {
   "cell_type": "code",
   "execution_count": 7,
   "metadata": {},
   "outputs": [
    {
     "data": {
      "text/plain": [
       "Array([[[0., 0., 0., 0., 0.],\n",
       "        [0., 0., 0., 0., 0.],\n",
       "        [0., 0., 0., 0., 0.],\n",
       "        [0., 0., 0., 0., 0.],\n",
       "        [0., 0., 0., 0., 0.]],\n",
       "\n",
       "       [[0., 0., 0., 0., 0.],\n",
       "        [0., 0., 0., 0., 0.],\n",
       "        [0., 0., 0., 0., 0.],\n",
       "        [0., 0., 0., 0., 0.],\n",
       "        [0., 0., 0., 0., 0.]],\n",
       "\n",
       "       [[0., 0., 0., 0., 0.],\n",
       "        [0., 0., 0., 0., 0.],\n",
       "        [0., 0., 0., 0., 0.],\n",
       "        [0., 0., 0., 0., 0.],\n",
       "        [0., 0., 0., 0., 0.]],\n",
       "\n",
       "       [[0., 0., 0., 0., 0.],\n",
       "        [0., 0., 0., 0., 0.],\n",
       "        [0., 0., 0., 0., 0.],\n",
       "        [0., 0., 0., 0., 0.],\n",
       "        [0., 0., 0., 0., 0.]],\n",
       "\n",
       "       [[0., 0., 0., 0., 0.],\n",
       "        [0., 0., 0., 0., 0.],\n",
       "        [0., 0., 0., 0., 0.],\n",
       "        [0., 0., 0., 0., 0.],\n",
       "        [0., 0., 0., 0., 0.]]], dtype=float32)"
      ]
     },
     "execution_count": 7,
     "metadata": {},
     "output_type": "execute_result"
    }
   ],
   "source": [
    "x"
   ]
  },
  {
   "cell_type": "code",
   "execution_count": 8,
   "metadata": {},
   "outputs": [
    {
     "data": {
      "text/plain": [
       "3"
      ]
     },
     "execution_count": 8,
     "metadata": {},
     "output_type": "execute_result"
    }
   ],
   "source": [
    "x.ndim"
   ]
  },
  {
   "cell_type": "code",
   "execution_count": 9,
   "metadata": {},
   "outputs": [],
   "source": [
    "n_embd = 48\n",
    "c_attn = nn.Dense(3*n_embd)"
   ]
  },
  {
   "cell_type": "code",
   "execution_count": 10,
   "metadata": {},
   "outputs": [
    {
     "data": {
      "text/plain": [
       "Dense(\n",
       "    # attributes\n",
       "    features = 144\n",
       "    use_bias = True\n",
       "    dtype = None\n",
       "    param_dtype = float32\n",
       "    precision = None\n",
       "    kernel_init = init\n",
       "    bias_init = zeros\n",
       "    dot_general = None\n",
       "    dot_general_cls = None\n",
       ")"
      ]
     },
     "execution_count": 10,
     "metadata": {},
     "output_type": "execute_result"
    }
   ],
   "source": [
    "c_attn"
   ]
  },
  {
   "cell_type": "code",
   "execution_count": 12,
   "metadata": {},
   "outputs": [],
   "source": [
    "variables = c_attn.init(random.key(0), jnp.ones(size))"
   ]
  },
  {
   "cell_type": "code",
   "execution_count": 13,
   "metadata": {},
   "outputs": [
    {
     "data": {
      "text/plain": [
       "{'params': {'kernel': Array([[-6.75753295e-01, -1.25569791e-01,  4.80034053e-01,\n",
       "           4.45972860e-01, -3.41137648e-01,  1.48248315e-01,\n",
       "          -2.80516952e-01,  2.47641012e-01,  6.89132571e-01,\n",
       "          -5.67145795e-02,  2.83539537e-02, -9.36957970e-02,\n",
       "          -1.32336095e-01,  4.31777656e-01, -2.15747923e-01,\n",
       "           7.16106236e-01, -2.85100825e-02,  3.60904366e-01,\n",
       "           8.71405482e-01, -7.84811318e-01,  4.07320946e-01,\n",
       "          -3.59700024e-02,  7.74781942e-01, -3.98327500e-01,\n",
       "          -2.76488066e-01, -5.91058254e-01,  6.19275749e-01,\n",
       "          -5.76399207e-01,  4.49771821e-01,  9.01654601e-01,\n",
       "          -3.59839290e-01, -7.26524964e-02, -3.98498207e-01,\n",
       "           8.58016834e-02, -4.96686637e-01,  3.02202702e-01,\n",
       "           3.67414683e-01,  6.98543340e-02, -7.82436967e-01,\n",
       "           1.13060489e-01, -3.08772445e-01,  4.09339368e-01,\n",
       "           3.17949176e-01, -6.22467637e-01, -6.67824745e-01,\n",
       "           3.56612176e-01, -2.99606770e-02,  5.04537895e-02,\n",
       "          -1.93122357e-01,  1.47309110e-01, -1.25455290e-01,\n",
       "          -4.68820870e-01, -4.16200519e-01, -3.84429812e-01,\n",
       "           4.07012403e-01, -3.29986542e-01, -3.44865292e-01,\n",
       "          -3.56327921e-01,  6.10238373e-01, -2.70849138e-01,\n",
       "           4.37981904e-01, -2.14736521e-01,  1.04170635e-01,\n",
       "           5.19667864e-01, -6.63717449e-01, -2.83939511e-01,\n",
       "           5.62074006e-01,  8.14738721e-02,  1.16603389e-01,\n",
       "           3.38333368e-01, -4.19506550e-01,  6.83516204e-01,\n",
       "          -2.52859086e-01, -3.77748460e-01, -5.30505598e-01,\n",
       "          -4.05491173e-01, -1.58528730e-01,  2.44173277e-02,\n",
       "           3.76973987e-01, -4.00362402e-01,  5.35474300e-01,\n",
       "           2.33821064e-01,  3.87487024e-01,  1.34101853e-01,\n",
       "           5.97500242e-02, -2.91905940e-01, -4.33272161e-02,\n",
       "          -5.33299804e-01, -1.08893752e-01,  6.68500841e-01,\n",
       "          -7.63221502e-01,  6.43637955e-01,  6.34725630e-01,\n",
       "          -5.39467074e-02,  6.37566626e-01, -5.01601659e-02,\n",
       "           6.17563188e-01, -1.79859310e-01, -2.03776136e-01,\n",
       "          -2.31383607e-01,  1.26074880e-01, -4.59585078e-02,\n",
       "           1.51303306e-01, -1.25711694e-01,  9.18327272e-02,\n",
       "           7.45349526e-01,  2.52355654e-02, -5.82960725e-01,\n",
       "           3.30456018e-01, -9.43483114e-01,  2.17311561e-01,\n",
       "          -3.74666959e-01,  1.43741846e-01, -3.47755164e-01,\n",
       "           1.97362021e-01,  3.02834492e-02, -6.19816244e-01,\n",
       "          -4.88665551e-01, -4.69808489e-01, -4.74903762e-01,\n",
       "           1.44212022e-01,  2.72426575e-01,  2.13483796e-01,\n",
       "           3.20671827e-01, -1.87649950e-01, -2.10108325e-01,\n",
       "           1.66600242e-01,  3.79702777e-01, -4.89127070e-01,\n",
       "           1.28731757e-01,  6.45599186e-01,  8.36361647e-01,\n",
       "           8.53084261e-04, -5.74688688e-02, -9.98785496e-01,\n",
       "           2.76253428e-02,  2.44497374e-01,  4.15134281e-01,\n",
       "           1.47031948e-01,  4.94020075e-01,  2.39470109e-01,\n",
       "          -5.61797261e-01, -8.03808123e-02, -2.38524005e-01],\n",
       "         [ 3.92410159e-01,  7.95465708e-01,  2.41490930e-01,\n",
       "          -3.28903049e-01, -9.68516111e-01, -2.92755663e-01,\n",
       "           2.10631341e-01,  6.31039381e-01, -2.01040506e-01,\n",
       "           4.11394805e-01, -8.18863437e-02, -4.61203545e-01,\n",
       "          -1.25241831e-01, -1.32041350e-01, -4.13459808e-01,\n",
       "           5.96253991e-01,  5.06678641e-01, -1.80400819e-01,\n",
       "           6.11013293e-01, -4.00009185e-01,  8.70940924e-01,\n",
       "          -7.12915063e-02, -4.35292125e-01, -4.06313330e-01,\n",
       "           2.96277404e-01,  2.94635594e-01,  8.83137763e-01,\n",
       "           5.73229790e-01, -6.00316972e-02,  1.01281837e-01,\n",
       "          -5.05202830e-01, -3.61640483e-01,  8.64636898e-01,\n",
       "          -2.47902468e-01,  7.63278782e-01,  1.28853202e-01,\n",
       "           1.49584100e-01,  1.23022109e-01, -9.62199718e-02,\n",
       "          -4.44193006e-01, -3.02362621e-01,  2.51582533e-01,\n",
       "          -5.83494045e-02,  5.44572175e-01,  1.28212571e-01,\n",
       "          -6.77554905e-02,  5.55461884e-01, -3.16064686e-01,\n",
       "           7.80429482e-01, -1.61019772e-01, -1.08971201e-01,\n",
       "           3.96170527e-01, -9.88352835e-01,  8.14236283e-01,\n",
       "          -1.59932002e-01, -3.58051509e-02, -1.45073310e-01,\n",
       "           1.26462653e-01,  7.73200810e-01, -4.38705653e-01,\n",
       "           5.73337376e-02, -3.14813823e-01,  4.12275016e-01,\n",
       "          -8.89980048e-02, -5.25915444e-01,  9.90955293e-01,\n",
       "          -1.05027579e-01, -2.87263662e-01,  6.80611208e-02,\n",
       "          -1.87270626e-01,  1.31987065e-01, -5.02085425e-02,\n",
       "           6.81665301e-01, -3.26894552e-01,  1.66534752e-01,\n",
       "          -7.45868981e-01, -3.68596882e-01,  2.20955148e-01,\n",
       "          -5.66162050e-01, -1.17318690e-01, -6.16866589e-01,\n",
       "           3.50598395e-01,  1.14530548e-01,  4.49907333e-01,\n",
       "          -6.29398599e-02, -2.28494436e-01, -5.08082747e-01,\n",
       "          -1.23061985e-01,  2.32401475e-01, -2.24268690e-01,\n",
       "           8.85210037e-01,  7.24753499e-01, -1.01918980e-01,\n",
       "          -3.71878237e-01,  7.41353810e-01, -8.15510213e-01,\n",
       "          -1.59269497e-01, -1.98360711e-01, -4.92336929e-01,\n",
       "           5.79207167e-02,  2.74526656e-01,  4.36325222e-01,\n",
       "          -5.13176799e-01,  6.16978444e-02,  1.81485973e-02,\n",
       "           8.38326573e-01,  5.63638389e-01,  4.02692556e-02,\n",
       "          -1.51683033e-01,  4.44785133e-02, -8.29945207e-01,\n",
       "           2.58480400e-01, -9.23420116e-03, -1.25472486e-01,\n",
       "           7.63321757e-01,  2.22342461e-02,  1.92390736e-02,\n",
       "          -5.07892072e-01, -9.26535204e-02, -1.82893649e-01,\n",
       "          -1.02746606e-01, -4.80660766e-01,  1.67177647e-01,\n",
       "           6.49845660e-01,  5.38771689e-01, -7.08797753e-01,\n",
       "          -9.97042358e-02, -6.24612927e-01,  3.39664340e-01,\n",
       "           3.99727821e-01, -3.45058203e-01,  2.28041187e-01,\n",
       "           1.10019431e-01, -4.19062972e-01, -8.01034570e-02,\n",
       "           2.37581953e-01, -6.71290338e-01, -1.54402032e-01,\n",
       "           3.87665778e-01,  4.62983280e-01,  3.73065442e-01,\n",
       "          -4.26056355e-01,  5.97512782e-01, -5.02981618e-02],\n",
       "         [ 1.41238123e-01,  4.55187708e-01,  7.16245890e-01,\n",
       "          -1.23028681e-01,  3.92112941e-01,  2.99871206e-01,\n",
       "          -2.35953674e-01,  3.48760225e-02, -7.43970215e-01,\n",
       "          -5.89766562e-01,  5.27898490e-01,  3.71176392e-01,\n",
       "          -1.43145800e-01, -1.82333753e-01, -7.74244666e-01,\n",
       "           2.64931354e-03,  5.22218764e-01,  4.41751666e-02,\n",
       "           4.25297022e-01,  1.65498201e-02,  2.08332259e-02,\n",
       "           1.00054932e+00, -4.50271696e-01,  9.62639451e-02,\n",
       "           8.76714885e-01, -1.29044592e-01,  1.37751833e-01,\n",
       "           1.10532045e-01, -5.95460355e-01,  8.62641633e-02,\n",
       "           6.05460107e-02,  6.75412118e-01,  1.73633412e-01,\n",
       "          -5.30831099e-01,  5.34025133e-01, -7.16633424e-02,\n",
       "           5.03050052e-02,  8.35912585e-01,  4.28260118e-01,\n",
       "          -4.13118601e-01,  2.78902024e-01,  3.41063738e-01,\n",
       "           1.59143552e-01, -2.03048944e-01, -9.33571756e-01,\n",
       "           6.67461038e-01, -1.40058890e-01,  1.00404263e-01,\n",
       "          -2.18235970e-01, -6.35425508e-01,  3.90214473e-01,\n",
       "           6.47760332e-01,  2.47236520e-01, -1.96394220e-01,\n",
       "           5.83350658e-01,  7.25853965e-02,  3.60168546e-01,\n",
       "           6.29825056e-01, -4.34045106e-01, -5.68281710e-01,\n",
       "          -4.48230766e-02, -2.30287403e-01,  4.40174520e-01,\n",
       "           5.27771771e-01, -4.11476135e-01,  8.23323548e-01,\n",
       "          -8.65648508e-01,  4.68360513e-01,  3.58963609e-01,\n",
       "          -2.68900245e-01,  2.27982819e-01,  9.51571018e-03,\n",
       "          -2.05222294e-01,  2.89398491e-01, -3.51305217e-01,\n",
       "           8.58365238e-01, -4.26679015e-01,  1.94261387e-01,\n",
       "          -8.85564387e-02,  1.91301793e-01,  3.16494584e-01,\n",
       "          -3.45300883e-01, -5.65575242e-01, -5.93155384e-01,\n",
       "           3.31242889e-01,  2.16362461e-01,  4.48085181e-02,\n",
       "           4.00204211e-01, -4.65952218e-01, -4.52072829e-01,\n",
       "          -1.72661334e-01, -6.39355257e-02, -9.11665782e-02,\n",
       "          -2.97215343e-01,  2.17339039e-01, -3.60260814e-01,\n",
       "          -7.02636540e-01, -3.81075799e-01, -3.28893900e-01,\n",
       "          -5.76956332e-01, -1.18291646e-01,  2.94946313e-01,\n",
       "          -2.83179045e-01, -2.73724288e-01,  6.25001937e-02,\n",
       "           9.26133871e-01,  1.72739569e-02,  7.14998245e-01,\n",
       "           5.11399329e-01,  8.25959519e-02,  6.02501869e-01,\n",
       "          -1.84598371e-01, -3.43369186e-01, -2.50161231e-01,\n",
       "           9.10685480e-01, -3.45112056e-01, -1.62869498e-01,\n",
       "          -5.27063668e-01,  6.92628384e-01, -3.26407373e-01,\n",
       "           5.60972869e-01,  9.90537167e-01, -3.72757047e-01,\n",
       "          -1.10813878e-01, -3.22093099e-01, -6.28229260e-01,\n",
       "          -9.52425525e-02,  1.00575483e+00, -2.51649380e-01,\n",
       "          -4.17327940e-01, -8.08556616e-01, -2.41363361e-01,\n",
       "          -2.07791999e-01,  6.24109283e-02,  2.96194762e-01,\n",
       "          -1.46095797e-01,  1.77757382e-01,  1.36127859e-01,\n",
       "           8.88184130e-01, -4.25992459e-01,  4.44158792e-01,\n",
       "          -5.23598731e-01,  1.58380475e-02,  1.69463828e-01],\n",
       "         [ 4.37161654e-01, -4.89040881e-01, -9.14794862e-01,\n",
       "           4.38617349e-01, -1.33566678e-01,  1.38666362e-01,\n",
       "          -7.39647627e-01,  9.90370363e-02,  4.15009052e-01,\n",
       "           6.79182231e-01, -4.99736130e-01,  8.09472680e-01,\n",
       "          -1.23627983e-01,  1.99464977e-01,  5.20981312e-01,\n",
       "          -2.64379345e-02, -3.23807709e-02, -4.40605849e-01,\n",
       "          -6.65878803e-02, -1.74185663e-01, -4.75977540e-01,\n",
       "          -6.44197762e-01, -2.66000003e-01,  5.45169592e-01,\n",
       "          -6.73177764e-02, -1.29412115e-01,  5.56477606e-01,\n",
       "          -8.20250139e-02,  6.56292021e-01, -4.63963389e-01,\n",
       "          -9.03652489e-01,  5.67607045e-01, -2.21131593e-01,\n",
       "           5.89663863e-01,  4.78146881e-01,  2.97453105e-01,\n",
       "          -3.66139710e-01, -9.21997249e-01,  6.24344170e-01,\n",
       "           3.74188662e-01, -2.18452066e-01, -9.65598643e-01,\n",
       "          -1.73681378e-01, -8.02412391e-01,  1.02713898e-01,\n",
       "          -5.94737947e-01,  5.60966805e-02,  3.95598948e-01,\n",
       "          -5.69026828e-01, -8.16111326e-01,  2.62392640e-01,\n",
       "          -2.63145208e-01, -4.63580221e-01, -1.90557376e-01,\n",
       "           2.97004104e-01, -3.90596539e-01,  2.51966447e-01,\n",
       "           2.22709224e-01,  1.50241107e-01,  7.72313058e-01,\n",
       "           6.54582083e-02, -5.06314278e-01,  1.77817494e-01,\n",
       "           1.35093927e-01,  4.62048471e-01,  6.47514582e-01,\n",
       "          -4.86425042e-01, -9.76278067e-01,  4.16832179e-01,\n",
       "          -8.40252265e-02, -2.38322858e-02, -4.21842784e-01,\n",
       "           3.19687694e-01, -6.79576844e-02,  9.86287296e-02,\n",
       "          -4.08570826e-01,  5.79408288e-01,  1.52621299e-01,\n",
       "          -1.01417914e-01,  6.30471289e-01, -4.05735135e-01,\n",
       "           3.92089076e-02, -5.84166944e-02,  9.12659019e-02,\n",
       "          -4.00445074e-01,  1.22793220e-01,  5.90755403e-01,\n",
       "          -4.68500167e-01, -3.54091316e-01, -2.86173999e-01,\n",
       "           9.58775282e-01, -9.86860543e-02, -1.67579934e-01,\n",
       "           2.84178674e-01,  5.84027827e-01, -3.09767544e-01,\n",
       "          -6.61355257e-01,  7.92883515e-01, -2.56080985e-01,\n",
       "          -9.37639475e-02,  8.08968186e-01,  2.24802330e-01,\n",
       "          -1.64657027e-01, -2.27009039e-02, -6.42308474e-01,\n",
       "           4.14374173e-01, -4.01687115e-01,  1.94165289e-01,\n",
       "          -7.27050126e-01,  6.84093416e-01, -2.77540743e-01,\n",
       "           1.02042072e-01,  1.38856918e-02, -3.53409618e-01,\n",
       "          -2.84023196e-01, -9.41179544e-02,  4.76739764e-01,\n",
       "           1.78445801e-01,  3.06524456e-01, -1.34902567e-01,\n",
       "          -2.01290753e-02,  7.69417524e-01, -9.15655121e-02,\n",
       "           3.82792085e-01,  4.89526063e-01, -3.06969643e-01,\n",
       "           8.16250220e-02, -3.87764335e-01,  2.08218000e-03,\n",
       "          -2.33188286e-01,  2.25965366e-01, -5.30077398e-01,\n",
       "           1.53899062e-02,  9.81269956e-01, -1.25094607e-01,\n",
       "          -3.04422051e-01,  5.75141124e-02,  9.64898705e-01,\n",
       "           8.23260546e-02, -1.69963926e-01, -5.47419369e-01,\n",
       "           1.30182758e-01, -1.83089357e-02,  5.29833436e-01],\n",
       "         [-1.09482855e-01,  4.99412239e-01, -5.72100461e-01,\n",
       "          -3.15129519e-01, -7.96534002e-01,  5.00971437e-01,\n",
       "           1.63614109e-01, -7.62558103e-01,  1.36578530e-01,\n",
       "           1.00840533e+00,  5.86225152e-01,  6.03348494e-01,\n",
       "          -4.21938360e-01,  3.78338456e-01, -3.00482303e-01,\n",
       "           3.48180175e-01, -1.68682858e-02,  7.90881395e-01,\n",
       "           5.45641661e-01,  4.01236489e-02, -2.20472500e-01,\n",
       "          -4.81418282e-01, -2.15169713e-01, -1.92790270e-01,\n",
       "          -5.75276554e-01, -6.99575245e-01,  5.83134770e-01,\n",
       "          -5.74296176e-01, -3.24833006e-01, -3.67841274e-01,\n",
       "           1.30831823e-01, -4.75254029e-01, -3.90246004e-01,\n",
       "           4.83660638e-01, -3.11434716e-01,  7.83675194e-01,\n",
       "           8.02393258e-01,  2.75193989e-01, -9.79931295e-01,\n",
       "           7.49486208e-01,  4.43770260e-01, -3.55944276e-01,\n",
       "           6.98582053e-01,  2.54777428e-02,  3.02841067e-01,\n",
       "           1.47997320e-01, -2.47375548e-01,  7.41574407e-01,\n",
       "           2.48259842e-01,  2.55470604e-01,  8.43437910e-02,\n",
       "          -7.70126060e-02, -8.17714214e-01, -7.14023948e-01,\n",
       "          -1.83462292e-01,  9.23232958e-02,  1.88404247e-01,\n",
       "           5.16883768e-02,  4.94701982e-01,  5.62624931e-01,\n",
       "          -6.56486571e-01, -6.61393106e-01,  1.59781948e-02,\n",
       "           3.40889961e-01, -3.14803272e-01,  1.89240575e-01,\n",
       "           6.46213770e-01,  6.04940653e-01, -4.24653977e-01,\n",
       "           1.01126826e+00, -2.83266395e-01,  2.96905041e-01,\n",
       "          -7.03883648e-01,  1.07978158e-01,  7.67508805e-01,\n",
       "           2.14886203e-01, -2.63271928e-01,  4.64050204e-01,\n",
       "          -6.19653344e-01, -4.14878935e-01, -6.12960398e-01,\n",
       "          -1.45411804e-01, -6.72846079e-01, -1.83090135e-01,\n",
       "          -6.29850104e-02,  2.84058023e-02, -3.50940049e-01,\n",
       "           5.68116009e-01,  7.48588368e-02, -1.75859183e-01,\n",
       "           3.68640453e-01,  1.62384942e-01, -1.01911135e-01,\n",
       "           3.27614903e-01, -7.75614008e-02,  2.59425253e-01,\n",
       "           4.91137803e-01, -2.80449092e-01, -3.02750498e-01,\n",
       "           1.17588855e-01, -3.84563714e-01, -6.34307683e-01,\n",
       "           3.00257504e-01,  5.87247908e-01,  8.88941810e-02,\n",
       "           5.79192877e-01,  2.12699160e-01,  6.73425794e-01,\n",
       "           4.04218793e-01,  2.93664306e-01,  2.85070837e-01,\n",
       "          -7.36217201e-01,  8.69908810e-01,  2.15664953e-01,\n",
       "          -9.89477754e-01, -1.02656625e-01, -4.98898804e-01,\n",
       "          -1.72914684e-01, -2.00356171e-02, -2.34639719e-01,\n",
       "          -1.01902559e-01, -4.81276870e-01,  2.47126192e-01,\n",
       "           1.51254788e-01,  2.97002196e-01,  4.74549197e-02,\n",
       "           6.65529221e-02, -5.57602108e-01,  6.88495338e-01,\n",
       "           1.63306892e-01, -4.36336964e-01, -7.43656039e-01,\n",
       "           3.42614889e-01, -3.30116868e-01,  4.58105981e-01,\n",
       "           7.96947330e-02, -5.09830892e-01,  6.42097592e-01,\n",
       "           1.77990168e-01, -2.50086933e-01, -6.78852141e-01,\n",
       "          -8.02617967e-01,  6.65938795e-01, -3.99822026e-01]],      dtype=float32),\n",
       "  'bias': Array([0., 0., 0., 0., 0., 0., 0., 0., 0., 0., 0., 0., 0., 0., 0., 0., 0.,\n",
       "         0., 0., 0., 0., 0., 0., 0., 0., 0., 0., 0., 0., 0., 0., 0., 0., 0.,\n",
       "         0., 0., 0., 0., 0., 0., 0., 0., 0., 0., 0., 0., 0., 0., 0., 0., 0.,\n",
       "         0., 0., 0., 0., 0., 0., 0., 0., 0., 0., 0., 0., 0., 0., 0., 0., 0.,\n",
       "         0., 0., 0., 0., 0., 0., 0., 0., 0., 0., 0., 0., 0., 0., 0., 0., 0.,\n",
       "         0., 0., 0., 0., 0., 0., 0., 0., 0., 0., 0., 0., 0., 0., 0., 0., 0.,\n",
       "         0., 0., 0., 0., 0., 0., 0., 0., 0., 0., 0., 0., 0., 0., 0., 0., 0.,\n",
       "         0., 0., 0., 0., 0., 0., 0., 0., 0., 0., 0., 0., 0., 0., 0., 0., 0.,\n",
       "         0., 0., 0., 0., 0., 0., 0., 0.], dtype=float32)}}"
      ]
     },
     "execution_count": 13,
     "metadata": {},
     "output_type": "execute_result"
    }
   ],
   "source": [
    "variables"
   ]
  },
  {
   "cell_type": "code",
   "execution_count": 18,
   "metadata": {},
   "outputs": [
    {
     "data": {
      "text/plain": [
       "<matplotlib.image.AxesImage at 0x12b3e8590>"
      ]
     },
     "execution_count": 18,
     "metadata": {},
     "output_type": "execute_result"
    },
    {
     "data": {
      "image/png": "[encoded data removed]",
      "text/plain": [
       "<Figure size 640x480 with 1 Axes>"
      ]
     },
     "metadata": {},
     "output_type": "display_data"
    }
   ],
   "source": [
    "plt.imshow(variables['params']['kernel'])"
   ]
  },
  {
   "cell_type": "code",
   "execution_count": 20,
   "metadata": {},
   "outputs": [],
   "source": [
    "lm_head = nn.Dense(48, kernel_init=nn.initializers.normal(stddev=0.02), use_bias=False)\n"
   ]
  },
  {
   "cell_type": "code",
   "execution_count": 22,
   "metadata": {},
   "outputs": [
    {
     "data": {
      "text/plain": [
       "Dense(\n",
       "    # attributes\n",
       "    features = 48\n",
       "    use_bias = False\n",
       "    dtype = None\n",
       "    param_dtype = float32\n",
       "    precision = None\n",
       "    kernel_init = init\n",
       "    bias_init = zeros\n",
       "    dot_general = None\n",
       "    dot_general_cls = None\n",
       ")"
      ]
     },
     "execution_count": 22,
     "metadata": {},
     "output_type": "execute_result"
    }
   ],
   "source": [
    "lm_head\n"
   ]
  },
  {
   "cell_type": "code",
   "execution_count": null,
   "metadata": {},
   "outputs": [],
   "source": []
  }
 ],
 "metadata": {
  "kernelspec": {
   "display_name": "Python 3 (ipykernel)",
   "language": "python",
   "name": "python3"
  },
  "language_info": {
   "codemirror_mode": {
    "name": "ipython",
    "version": 3
   },
   "file_extension": ".py",
   "mimetype": "text/x-python",
   "name": "python",
   "nbconvert_exporter": "python",
   "pygments_lexer": "ipython3",
   "version": "3.11.10"
  }
 },
 "nbformat": 4,
 "nbformat_minor": 4
}
